{
 "cells": [
  {
   "cell_type": "code",
   "execution_count": 1,
   "metadata": {},
   "outputs": [
    {
     "ename": "ModuleNotFoundError",
     "evalue": "No module named 'systop_utils'",
     "output_type": "error",
     "traceback": [
      "\u001b[0;31m---------------------------------------------------------------------------\u001b[0m",
      "\u001b[0;31mModuleNotFoundError\u001b[0m                       Traceback (most recent call last)",
      "\u001b[0;32m/var/folders/xj/6w4kl27d4wl0x69flp0cptsc0000gn/T/ipykernel_75853/2525015074.py\u001b[0m in \u001b[0;36m<module>\u001b[0;34m\u001b[0m\n\u001b[1;32m      5\u001b[0m \u001b[0;32mimport\u001b[0m \u001b[0mtextwrap\u001b[0m\u001b[0;34m\u001b[0m\u001b[0;34m\u001b[0m\u001b[0m\n\u001b[1;32m      6\u001b[0m \u001b[0;31m# import inhouse functions\u001b[0m\u001b[0;34m\u001b[0m\u001b[0;34m\u001b[0m\u001b[0;34m\u001b[0m\u001b[0m\n\u001b[0;32m----> 7\u001b[0;31m \u001b[0;32mimport\u001b[0m \u001b[0msystop_utils\u001b[0m\u001b[0;34m\u001b[0m\u001b[0;34m\u001b[0m\u001b[0m\n\u001b[0m",
      "\u001b[0;31mModuleNotFoundError\u001b[0m: No module named 'systop_utils'"
     ]
    }
   ],
   "source": [
    "import sys\n",
    "import numpy as np\n",
    "import MDAnalysis as mda\n",
    "import mbuild as mb\n",
    "import textwrap\n",
    "# import inhouse functions\n",
    "import systop_utils"
   ]
  },
  {
   "cell_type": "code",
   "execution_count": 3,
   "metadata": {},
   "outputs": [],
   "source": [
    "path = '/Users/joedinski/work/Projects/FAIRmat/GRO_DEV/MD_Overview/FSFG/'\n",
    "sys_nm = 'nvt'\n",
    "universe = mda.Universe(path+sys_nm+'.tpr', path+sys_nm+'.gro') # use the input coordinate file for positions"
   ]
  },
  {
   "cell_type": "code",
   "execution_count": 4,
   "metadata": {},
   "outputs": [
    {
     "data": {
      "text/plain": [
       "<AtomGroup with 4 atoms>"
      ]
     },
     "execution_count": 4,
     "metadata": {},
     "output_type": "execute_result"
    }
   ],
   "source": [
    "# universe.segments.n_segments\n",
    "# universe.segments.segids\n",
    "# universe.segments.segindices\n",
    "#universe.segments.segments[0].atoms\n",
    "universe.atoms.segids\n",
    "universe.atoms.segindices\n",
    "#universe.atoms.n_segments\n",
    "# universe.atoms.molnums\n",
    "# universe.atoms.moltypes\n",
    "universe.segments[0].residues[0].atoms\n",
    "universe.segments[1].residues[0].atoms\n",
    "#universe.atoms.fragments"
   ]
  },
  {
   "cell_type": "code",
   "execution_count": 5,
   "metadata": {},
   "outputs": [],
   "source": [
    "# parse atom groups (segments and residues)\n",
    "# we only create atomsgroup in the initial system\n",
    "system_info = []\n",
    "for i_segment, segment in enumerate(universe.segments):\n",
    "    system_info.append({})\n",
    "    #sec_segment = sec_run.system[0].m_create(AtomsGroup)\n",
    "    system_info[i_segment]['label'] = segment.segid\n",
    "    system_info[i_segment]['index'] = int(segment.segindex)\n",
    "    system_info[i_segment]['atom_indices'] = [atom.index for atom in segment.atoms]\n",
    "    system_info[i_segment]['residues'] = []\n",
    "    for i_residue, residue in enumerate(segment.residues):\n",
    "        system_info[i_segment]['residues'].append({})\n",
    "        # sec_residue = sec_segment.m_create(AtomsGroup)\n",
    "        system_info[i_segment]['residues'][i_residue]['label'] = residue.resname\n",
    "        system_info[i_segment]['residues'][i_residue]['type'] = residue.moltype\n",
    "        system_info[i_segment]['residues'][i_residue]['index'] = int(residue.resindex)\n",
    "        system_info[i_segment]['residues'][i_residue]['n_atoms'] = len(residue.atoms)\n",
    "        system_info[i_segment]['residues'][i_residue]['atom_indices'] = [atom.index for atom in residue.atoms]"
   ]
  },
  {
   "cell_type": "code",
   "execution_count": 13,
   "metadata": {},
   "outputs": [
    {
     "data": {
      "text/plain": [
       "{'label': 'seg_0_Protein',\n",
       " 'index': 0,\n",
       " 'atom_indices': [0,\n",
       "  1,\n",
       "  2,\n",
       "  3,\n",
       "  4,\n",
       "  5,\n",
       "  6,\n",
       "  7,\n",
       "  8,\n",
       "  9,\n",
       "  10,\n",
       "  11,\n",
       "  12,\n",
       "  13,\n",
       "  14,\n",
       "  15,\n",
       "  16,\n",
       "  17,\n",
       "  18,\n",
       "  19,\n",
       "  20,\n",
       "  21,\n",
       "  22,\n",
       "  23,\n",
       "  24,\n",
       "  25,\n",
       "  26,\n",
       "  27,\n",
       "  28,\n",
       "  29,\n",
       "  30,\n",
       "  31,\n",
       "  32,\n",
       "  33,\n",
       "  34,\n",
       "  35,\n",
       "  36,\n",
       "  37,\n",
       "  38,\n",
       "  39,\n",
       "  40,\n",
       "  41,\n",
       "  42,\n",
       "  43,\n",
       "  44,\n",
       "  45,\n",
       "  46,\n",
       "  47,\n",
       "  48,\n",
       "  49,\n",
       "  50,\n",
       "  51,\n",
       "  52,\n",
       "  53,\n",
       "  54,\n",
       "  55,\n",
       "  56,\n",
       "  57,\n",
       "  58,\n",
       "  59,\n",
       "  60,\n",
       "  61,\n",
       "  62,\n",
       "  63,\n",
       "  64,\n",
       "  65,\n",
       "  66,\n",
       "  67,\n",
       "  68,\n",
       "  69,\n",
       "  70,\n",
       "  71,\n",
       "  72,\n",
       "  73,\n",
       "  74,\n",
       "  75,\n",
       "  76,\n",
       "  77,\n",
       "  78,\n",
       "  79,\n",
       "  80,\n",
       "  81,\n",
       "  82,\n",
       "  83,\n",
       "  84,\n",
       "  85,\n",
       "  86,\n",
       "  87,\n",
       "  88,\n",
       "  89,\n",
       "  90,\n",
       "  91,\n",
       "  92,\n",
       "  93,\n",
       "  94,\n",
       "  95,\n",
       "  96,\n",
       "  97,\n",
       "  98,\n",
       "  99,\n",
       "  100,\n",
       "  101,\n",
       "  102,\n",
       "  103,\n",
       "  104,\n",
       "  105,\n",
       "  106,\n",
       "  107,\n",
       "  108,\n",
       "  109,\n",
       "  110,\n",
       "  111,\n",
       "  112,\n",
       "  113,\n",
       "  114,\n",
       "  115,\n",
       "  116,\n",
       "  117,\n",
       "  118,\n",
       "  119,\n",
       "  120,\n",
       "  121,\n",
       "  122,\n",
       "  123,\n",
       "  124,\n",
       "  125,\n",
       "  126,\n",
       "  127,\n",
       "  128,\n",
       "  129,\n",
       "  130,\n",
       "  131,\n",
       "  132,\n",
       "  133,\n",
       "  134,\n",
       "  135,\n",
       "  136,\n",
       "  137,\n",
       "  138,\n",
       "  139,\n",
       "  140,\n",
       "  141,\n",
       "  142,\n",
       "  143,\n",
       "  144,\n",
       "  145,\n",
       "  146,\n",
       "  147,\n",
       "  148,\n",
       "  149,\n",
       "  150,\n",
       "  151,\n",
       "  152,\n",
       "  153,\n",
       "  154,\n",
       "  155,\n",
       "  156,\n",
       "  157,\n",
       "  158,\n",
       "  159,\n",
       "  160,\n",
       "  161,\n",
       "  162,\n",
       "  163,\n",
       "  164,\n",
       "  165,\n",
       "  166,\n",
       "  167,\n",
       "  168,\n",
       "  169,\n",
       "  170,\n",
       "  171,\n",
       "  172,\n",
       "  173,\n",
       "  174,\n",
       "  175,\n",
       "  176,\n",
       "  177,\n",
       "  178,\n",
       "  179,\n",
       "  180,\n",
       "  181,\n",
       "  182,\n",
       "  183,\n",
       "  184,\n",
       "  185,\n",
       "  186,\n",
       "  187,\n",
       "  188,\n",
       "  189,\n",
       "  190,\n",
       "  191,\n",
       "  192,\n",
       "  193,\n",
       "  194,\n",
       "  195,\n",
       "  196,\n",
       "  197,\n",
       "  198,\n",
       "  199,\n",
       "  200,\n",
       "  201,\n",
       "  202,\n",
       "  203,\n",
       "  204,\n",
       "  205,\n",
       "  206,\n",
       "  207,\n",
       "  208,\n",
       "  209],\n",
       " 'residues': [{'label': 'SER',\n",
       "   'type': 'Protein',\n",
       "   'index': 0,\n",
       "   'n_atoms': 13,\n",
       "   'atom_indices': [0, 1, 2, 3, 4, 5, 6, 7, 8, 9, 10, 11, 12]},\n",
       "  {'label': 'SER',\n",
       "   'type': 'Protein',\n",
       "   'index': 1,\n",
       "   'n_atoms': 11,\n",
       "   'atom_indices': [13, 14, 15, 16, 17, 18, 19, 20, 21, 22, 23]},\n",
       "  {'label': 'PHE',\n",
       "   'type': 'Protein',\n",
       "   'index': 2,\n",
       "   'n_atoms': 20,\n",
       "   'atom_indices': [24,\n",
       "    25,\n",
       "    26,\n",
       "    27,\n",
       "    28,\n",
       "    29,\n",
       "    30,\n",
       "    31,\n",
       "    32,\n",
       "    33,\n",
       "    34,\n",
       "    35,\n",
       "    36,\n",
       "    37,\n",
       "    38,\n",
       "    39,\n",
       "    40,\n",
       "    41,\n",
       "    42,\n",
       "    43]},\n",
       "  {'label': 'SER',\n",
       "   'type': 'Protein',\n",
       "   'index': 3,\n",
       "   'n_atoms': 11,\n",
       "   'atom_indices': [44, 45, 46, 47, 48, 49, 50, 51, 52, 53, 54]},\n",
       "  {'label': 'PHE',\n",
       "   'type': 'Protein',\n",
       "   'index': 4,\n",
       "   'n_atoms': 20,\n",
       "   'atom_indices': [55,\n",
       "    56,\n",
       "    57,\n",
       "    58,\n",
       "    59,\n",
       "    60,\n",
       "    61,\n",
       "    62,\n",
       "    63,\n",
       "    64,\n",
       "    65,\n",
       "    66,\n",
       "    67,\n",
       "    68,\n",
       "    69,\n",
       "    70,\n",
       "    71,\n",
       "    72,\n",
       "    73,\n",
       "    74]},\n",
       "  {'label': 'GLY',\n",
       "   'type': 'Protein',\n",
       "   'index': 5,\n",
       "   'n_atoms': 7,\n",
       "   'atom_indices': [75, 76, 77, 78, 79, 80, 81]},\n",
       "  {'label': 'SER',\n",
       "   'type': 'Protein',\n",
       "   'index': 6,\n",
       "   'n_atoms': 11,\n",
       "   'atom_indices': [82, 83, 84, 85, 86, 87, 88, 89, 90, 91, 92]},\n",
       "  {'label': 'SER',\n",
       "   'type': 'Protein',\n",
       "   'index': 7,\n",
       "   'n_atoms': 12,\n",
       "   'atom_indices': [93, 94, 95, 96, 97, 98, 99, 100, 101, 102, 103, 104]},\n",
       "  {'label': 'SER',\n",
       "   'type': 'Protein',\n",
       "   'index': 8,\n",
       "   'n_atoms': 13,\n",
       "   'atom_indices': [105,\n",
       "    106,\n",
       "    107,\n",
       "    108,\n",
       "    109,\n",
       "    110,\n",
       "    111,\n",
       "    112,\n",
       "    113,\n",
       "    114,\n",
       "    115,\n",
       "    116,\n",
       "    117]},\n",
       "  {'label': 'SER',\n",
       "   'type': 'Protein',\n",
       "   'index': 9,\n",
       "   'n_atoms': 11,\n",
       "   'atom_indices': [118, 119, 120, 121, 122, 123, 124, 125, 126, 127, 128]},\n",
       "  {'label': 'PHE',\n",
       "   'type': 'Protein',\n",
       "   'index': 10,\n",
       "   'n_atoms': 20,\n",
       "   'atom_indices': [129,\n",
       "    130,\n",
       "    131,\n",
       "    132,\n",
       "    133,\n",
       "    134,\n",
       "    135,\n",
       "    136,\n",
       "    137,\n",
       "    138,\n",
       "    139,\n",
       "    140,\n",
       "    141,\n",
       "    142,\n",
       "    143,\n",
       "    144,\n",
       "    145,\n",
       "    146,\n",
       "    147,\n",
       "    148]},\n",
       "  {'label': 'SER',\n",
       "   'type': 'Protein',\n",
       "   'index': 11,\n",
       "   'n_atoms': 11,\n",
       "   'atom_indices': [149, 150, 151, 152, 153, 154, 155, 156, 157, 158, 159]},\n",
       "  {'label': 'PHE',\n",
       "   'type': 'Protein',\n",
       "   'index': 12,\n",
       "   'n_atoms': 20,\n",
       "   'atom_indices': [160,\n",
       "    161,\n",
       "    162,\n",
       "    163,\n",
       "    164,\n",
       "    165,\n",
       "    166,\n",
       "    167,\n",
       "    168,\n",
       "    169,\n",
       "    170,\n",
       "    171,\n",
       "    172,\n",
       "    173,\n",
       "    174,\n",
       "    175,\n",
       "    176,\n",
       "    177,\n",
       "    178,\n",
       "    179]},\n",
       "  {'label': 'GLY',\n",
       "   'type': 'Protein',\n",
       "   'index': 13,\n",
       "   'n_atoms': 7,\n",
       "   'atom_indices': [180, 181, 182, 183, 184, 185, 186]},\n",
       "  {'label': 'SER',\n",
       "   'type': 'Protein',\n",
       "   'index': 14,\n",
       "   'n_atoms': 11,\n",
       "   'atom_indices': [187, 188, 189, 190, 191, 192, 193, 194, 195, 196, 197]},\n",
       "  {'label': 'SER',\n",
       "   'type': 'Protein',\n",
       "   'index': 15,\n",
       "   'n_atoms': 12,\n",
       "   'atom_indices': [198,\n",
       "    199,\n",
       "    200,\n",
       "    201,\n",
       "    202,\n",
       "    203,\n",
       "    204,\n",
       "    205,\n",
       "    206,\n",
       "    207,\n",
       "    208,\n",
       "    209]}]}"
      ]
     },
     "execution_count": 13,
     "metadata": {},
     "output_type": "execute_result"
    }
   ],
   "source": [
    "system_info[0]"
   ]
  },
  {
   "cell_type": "code",
   "execution_count": 20,
   "metadata": {},
   "outputs": [],
   "source": [
    "# Construct System Topology\n",
    "# mol / fragments\n",
    "# segments\n",
    "# residues / monomers\n",
    "# atoms\n",
    "system = systop_utils.Compound() # store the topology in the mbuild class \"Compound\""
   ]
  },
  {
   "cell_type": "code",
   "execution_count": 21,
   "metadata": {},
   "outputs": [
    {
     "name": "stdout",
     "output_type": "stream",
     "text": [
      "['Protein' 'Protein' 'Protein' ... 'SOL' 'SOL' 'SOL']\n",
      "[    0     0     0 ... 11247 11247 11247]\n",
      "['SER' 'SER' 'SER' ... 'SOL' 'SOL' 'SOL']\n",
      "[    1     1     1 ... 11262 11262 11262]\n",
      "['N' 'H' 'H' ... 'H' 'H' '']\n",
      "['N' 'H1' 'H2' ... 'HW2' 'HW3' 'MW4']\n"
     ]
    }
   ],
   "source": [
    "# first get the atom attributes from the MDAnalysis universe\n",
    "# nb - moltypes, molnums, elements, and names are defined according to the information available\n",
    "# moltypes <--> fragtypes\n",
    "# molnums <--> fragnums\n",
    "# elements <--> types\n",
    "# names <--> types\n",
    "system.get_atom_attributes(universe)\n",
    "print(system.atoms.moltypes)\n",
    "print(system.atoms.molnums)\n",
    "print(system.atoms.resnames)\n",
    "print(system.atoms.resids)\n",
    "print(system.atoms.elements)\n",
    "print(system.atoms.names)"
   ]
  },
  {
   "cell_type": "code",
   "execution_count": 22,
   "metadata": {},
   "outputs": [],
   "source": [
    "# use the atom attributes to construct the basic hierarchical structure molecules-->segments-->residues-->atoms\n",
    "system.construct_topology()"
   ]
  },
  {
   "cell_type": "code",
   "execution_count": 23,
   "metadata": {},
   "outputs": [
    {
     "ename": "KeyboardInterrupt",
     "evalue": "",
     "output_type": "error",
     "traceback": [
      "\u001b[0;31m---------------------------------------------------------------------------\u001b[0m",
      "\u001b[0;31mKeyboardInterrupt\u001b[0m                         Traceback (most recent call last)",
      "\u001b[0;32m/var/folders/xj/6w4kl27d4wl0x69flp0cptsc0000gn/T/ipykernel_70984/1886812794.py\u001b[0m in \u001b[0;36m<module>\u001b[0;34m\u001b[0m\n\u001b[1;32m      3\u001b[0m \u001b[0;31m#    - it is quite expensive to add the bonds one by one...not even sure what the utility of this is, we might just add\u001b[0m\u001b[0;34m\u001b[0m\u001b[0;34m\u001b[0m\u001b[0;34m\u001b[0m\u001b[0m\n\u001b[1;32m      4\u001b[0m \u001b[0;31m#       a reference to the bond list in the force field (or vica versa).\u001b[0m\u001b[0;34m\u001b[0m\u001b[0;34m\u001b[0m\u001b[0;34m\u001b[0m\u001b[0m\n\u001b[0;32m----> 5\u001b[0;31m \u001b[0msystem\u001b[0m\u001b[0;34m.\u001b[0m\u001b[0madd_bonds_from_universe\u001b[0m\u001b[0;34m(\u001b[0m\u001b[0muniverse\u001b[0m\u001b[0;34m)\u001b[0m\u001b[0;34m\u001b[0m\u001b[0;34m\u001b[0m\u001b[0m\n\u001b[0m",
      "\u001b[0;32m~/work/Projects/FAIRmat/GRO_DEV/MD_Overview/FSFG/systop_utils.py\u001b[0m in \u001b[0;36madd_bonds_from_universe\u001b[0;34m(self, universe)\u001b[0m\n\u001b[1;32m    124\u001b[0m         \u001b[0;32mif\u001b[0m \u001b[0mhasattr\u001b[0m\u001b[0;34m(\u001b[0m\u001b[0muniverse\u001b[0m\u001b[0;34m,\u001b[0m \u001b[0;34m'bonds'\u001b[0m\u001b[0;34m)\u001b[0m\u001b[0;34m:\u001b[0m\u001b[0;34m\u001b[0m\u001b[0;34m\u001b[0m\u001b[0m\n\u001b[1;32m    125\u001b[0m             \u001b[0;32mif\u001b[0m \u001b[0mhasattr\u001b[0m\u001b[0;34m(\u001b[0m\u001b[0muniverse\u001b[0m\u001b[0;34m.\u001b[0m\u001b[0mbonds\u001b[0m\u001b[0;34m,\u001b[0m \u001b[0;34m'_bix'\u001b[0m\u001b[0;34m)\u001b[0m\u001b[0;34m:\u001b[0m\u001b[0;34m\u001b[0m\u001b[0;34m\u001b[0m\u001b[0m\n\u001b[0;32m--> 126\u001b[0;31m                 \u001b[0m_\u001b[0m \u001b[0;34m=\u001b[0m \u001b[0;34m[\u001b[0m \u001b[0mself\u001b[0m\u001b[0;34m.\u001b[0m\u001b[0madd_bond\u001b[0m\u001b[0;34m(\u001b[0m\u001b[0;34m(\u001b[0m\u001b[0mself\u001b[0m\u001b[0;34m[\u001b[0m\u001b[0mint\u001b[0m\u001b[0;34m(\u001b[0m\u001b[0mx\u001b[0m\u001b[0;34m[\u001b[0m\u001b[0;36m0\u001b[0m\u001b[0;34m]\u001b[0m\u001b[0;34m)\u001b[0m\u001b[0;34m]\u001b[0m\u001b[0;34m,\u001b[0m\u001b[0mself\u001b[0m\u001b[0;34m[\u001b[0m\u001b[0mint\u001b[0m\u001b[0;34m(\u001b[0m\u001b[0mx\u001b[0m\u001b[0;34m[\u001b[0m\u001b[0;36m1\u001b[0m\u001b[0;34m]\u001b[0m\u001b[0;34m)\u001b[0m\u001b[0;34m]\u001b[0m\u001b[0;34m)\u001b[0m\u001b[0;34m)\u001b[0m \u001b[0;32mfor\u001b[0m \u001b[0mx\u001b[0m \u001b[0;32min\u001b[0m \u001b[0muniverse\u001b[0m\u001b[0;34m.\u001b[0m\u001b[0mbonds\u001b[0m\u001b[0;34m.\u001b[0m\u001b[0m_bix\u001b[0m\u001b[0;34m[\u001b[0m\u001b[0;34m:\u001b[0m\u001b[0mn_bonds_restrict\u001b[0m\u001b[0;34m]\u001b[0m \u001b[0;34m]\u001b[0m\u001b[0;34m\u001b[0m\u001b[0;34m\u001b[0m\u001b[0m\n\u001b[0m\u001b[1;32m    127\u001b[0m             \u001b[0;32melse\u001b[0m\u001b[0;34m:\u001b[0m\u001b[0;34m\u001b[0m\u001b[0;34m\u001b[0m\u001b[0m\n\u001b[1;32m    128\u001b[0m                 \u001b[0;32mraise\u001b[0m \u001b[0mValueError\u001b[0m\u001b[0;34m(\u001b[0m\u001b[0;34m'No attribute \"_bix\" in universe.bonds'\u001b[0m\u001b[0;34m)\u001b[0m\u001b[0;34m\u001b[0m\u001b[0;34m\u001b[0m\u001b[0m\n",
      "\u001b[0;32m~/work/Projects/FAIRmat/GRO_DEV/MD_Overview/FSFG/systop_utils.py\u001b[0m in \u001b[0;36m<listcomp>\u001b[0;34m(.0)\u001b[0m\n\u001b[1;32m    124\u001b[0m         \u001b[0;32mif\u001b[0m \u001b[0mhasattr\u001b[0m\u001b[0;34m(\u001b[0m\u001b[0muniverse\u001b[0m\u001b[0;34m,\u001b[0m \u001b[0;34m'bonds'\u001b[0m\u001b[0;34m)\u001b[0m\u001b[0;34m:\u001b[0m\u001b[0;34m\u001b[0m\u001b[0;34m\u001b[0m\u001b[0m\n\u001b[1;32m    125\u001b[0m             \u001b[0;32mif\u001b[0m \u001b[0mhasattr\u001b[0m\u001b[0;34m(\u001b[0m\u001b[0muniverse\u001b[0m\u001b[0;34m.\u001b[0m\u001b[0mbonds\u001b[0m\u001b[0;34m,\u001b[0m \u001b[0;34m'_bix'\u001b[0m\u001b[0;34m)\u001b[0m\u001b[0;34m:\u001b[0m\u001b[0;34m\u001b[0m\u001b[0;34m\u001b[0m\u001b[0m\n\u001b[0;32m--> 126\u001b[0;31m                 \u001b[0m_\u001b[0m \u001b[0;34m=\u001b[0m \u001b[0;34m[\u001b[0m \u001b[0mself\u001b[0m\u001b[0;34m.\u001b[0m\u001b[0madd_bond\u001b[0m\u001b[0;34m(\u001b[0m\u001b[0;34m(\u001b[0m\u001b[0mself\u001b[0m\u001b[0;34m[\u001b[0m\u001b[0mint\u001b[0m\u001b[0;34m(\u001b[0m\u001b[0mx\u001b[0m\u001b[0;34m[\u001b[0m\u001b[0;36m0\u001b[0m\u001b[0;34m]\u001b[0m\u001b[0;34m)\u001b[0m\u001b[0;34m]\u001b[0m\u001b[0;34m,\u001b[0m\u001b[0mself\u001b[0m\u001b[0;34m[\u001b[0m\u001b[0mint\u001b[0m\u001b[0;34m(\u001b[0m\u001b[0mx\u001b[0m\u001b[0;34m[\u001b[0m\u001b[0;36m1\u001b[0m\u001b[0;34m]\u001b[0m\u001b[0;34m)\u001b[0m\u001b[0;34m]\u001b[0m\u001b[0;34m)\u001b[0m\u001b[0;34m)\u001b[0m \u001b[0;32mfor\u001b[0m \u001b[0mx\u001b[0m \u001b[0;32min\u001b[0m \u001b[0muniverse\u001b[0m\u001b[0;34m.\u001b[0m\u001b[0mbonds\u001b[0m\u001b[0;34m.\u001b[0m\u001b[0m_bix\u001b[0m\u001b[0;34m[\u001b[0m\u001b[0;34m:\u001b[0m\u001b[0mn_bonds_restrict\u001b[0m\u001b[0;34m]\u001b[0m \u001b[0;34m]\u001b[0m\u001b[0;34m\u001b[0m\u001b[0;34m\u001b[0m\u001b[0m\n\u001b[0m\u001b[1;32m    127\u001b[0m             \u001b[0;32melse\u001b[0m\u001b[0;34m:\u001b[0m\u001b[0;34m\u001b[0m\u001b[0;34m\u001b[0m\u001b[0m\n\u001b[1;32m    128\u001b[0m                 \u001b[0;32mraise\u001b[0m \u001b[0mValueError\u001b[0m\u001b[0;34m(\u001b[0m\u001b[0;34m'No attribute \"_bix\" in universe.bonds'\u001b[0m\u001b[0;34m)\u001b[0m\u001b[0;34m\u001b[0m\u001b[0;34m\u001b[0m\u001b[0m\n",
      "\u001b[0;32m~/miniconda3/envs/mosdef37/lib/python3.7/site-packages/mbuild/compound.py\u001b[0m in \u001b[0;36m__getitem__\u001b[0;34m(self, selection)\u001b[0m\n\u001b[1;32m   2843\u001b[0m     \u001b[0;32mdef\u001b[0m \u001b[0m__getitem__\u001b[0m\u001b[0;34m(\u001b[0m\u001b[0mself\u001b[0m\u001b[0;34m,\u001b[0m \u001b[0mselection\u001b[0m\u001b[0;34m)\u001b[0m\u001b[0;34m:\u001b[0m\u001b[0;34m\u001b[0m\u001b[0;34m\u001b[0m\u001b[0m\n\u001b[1;32m   2844\u001b[0m         \u001b[0;32mif\u001b[0m \u001b[0misinstance\u001b[0m\u001b[0;34m(\u001b[0m\u001b[0mselection\u001b[0m\u001b[0;34m,\u001b[0m \u001b[0mint\u001b[0m\u001b[0;34m)\u001b[0m\u001b[0;34m:\u001b[0m\u001b[0;34m\u001b[0m\u001b[0;34m\u001b[0m\u001b[0m\n\u001b[0;32m-> 2845\u001b[0;31m             \u001b[0;32mreturn\u001b[0m \u001b[0mlist\u001b[0m\u001b[0;34m(\u001b[0m\u001b[0mself\u001b[0m\u001b[0;34m.\u001b[0m\u001b[0mparticles\u001b[0m\u001b[0;34m(\u001b[0m\u001b[0;34m)\u001b[0m\u001b[0;34m)\u001b[0m\u001b[0;34m[\u001b[0m\u001b[0mselection\u001b[0m\u001b[0;34m]\u001b[0m\u001b[0;34m\u001b[0m\u001b[0;34m\u001b[0m\u001b[0m\n\u001b[0m\u001b[1;32m   2846\u001b[0m         \u001b[0;32mif\u001b[0m \u001b[0misinstance\u001b[0m\u001b[0;34m(\u001b[0m\u001b[0mselection\u001b[0m\u001b[0;34m,\u001b[0m \u001b[0mstr\u001b[0m\u001b[0;34m)\u001b[0m\u001b[0;34m:\u001b[0m\u001b[0;34m\u001b[0m\u001b[0;34m\u001b[0m\u001b[0m\n\u001b[1;32m   2847\u001b[0m             \u001b[0;32mif\u001b[0m \u001b[0mselection\u001b[0m \u001b[0;32mnot\u001b[0m \u001b[0;32min\u001b[0m \u001b[0mself\u001b[0m\u001b[0;34m.\u001b[0m\u001b[0mlabels\u001b[0m\u001b[0;34m:\u001b[0m\u001b[0;34m\u001b[0m\u001b[0;34m\u001b[0m\u001b[0m\n",
      "\u001b[0;32m~/miniconda3/envs/mosdef37/lib/python3.7/site-packages/mbuild/compound.py\u001b[0m in \u001b[0;36mparticles\u001b[0;34m(self, include_ports)\u001b[0m\n\u001b[1;32m    345\u001b[0m             \u001b[0;32myield\u001b[0m \u001b[0mself\u001b[0m\u001b[0;34m\u001b[0m\u001b[0;34m\u001b[0m\u001b[0m\n\u001b[1;32m    346\u001b[0m         \u001b[0;32melse\u001b[0m\u001b[0;34m:\u001b[0m\u001b[0;34m\u001b[0m\u001b[0;34m\u001b[0m\u001b[0m\n\u001b[0;32m--> 347\u001b[0;31m             \u001b[0;32mfor\u001b[0m \u001b[0mparticle\u001b[0m \u001b[0;32min\u001b[0m \u001b[0mself\u001b[0m\u001b[0;34m.\u001b[0m\u001b[0m_particles\u001b[0m\u001b[0;34m(\u001b[0m\u001b[0minclude_ports\u001b[0m\u001b[0;34m)\u001b[0m\u001b[0;34m:\u001b[0m\u001b[0;34m\u001b[0m\u001b[0;34m\u001b[0m\u001b[0m\n\u001b[0m\u001b[1;32m    348\u001b[0m                 \u001b[0;32myield\u001b[0m \u001b[0mparticle\u001b[0m\u001b[0;34m\u001b[0m\u001b[0;34m\u001b[0m\u001b[0m\n\u001b[1;32m    349\u001b[0m \u001b[0;34m\u001b[0m\u001b[0m\n",
      "\u001b[0;32m~/miniconda3/envs/mosdef37/lib/python3.7/site-packages/mbuild/compound.py\u001b[0m in \u001b[0;36m_particles\u001b[0;34m(self, include_ports)\u001b[0m\n\u001b[1;32m    351\u001b[0m         \u001b[0;34m\"\"\"Return all Particles of the Compound. \"\"\"\u001b[0m\u001b[0;34m\u001b[0m\u001b[0;34m\u001b[0m\u001b[0m\n\u001b[1;32m    352\u001b[0m         \u001b[0;32mfor\u001b[0m \u001b[0mchild\u001b[0m \u001b[0;32min\u001b[0m \u001b[0mself\u001b[0m\u001b[0;34m.\u001b[0m\u001b[0msuccessors\u001b[0m\u001b[0;34m(\u001b[0m\u001b[0;34m)\u001b[0m\u001b[0;34m:\u001b[0m\u001b[0;34m\u001b[0m\u001b[0;34m\u001b[0m\u001b[0m\n\u001b[0;32m--> 353\u001b[0;31m             \u001b[0;32mif\u001b[0m \u001b[0;32mnot\u001b[0m \u001b[0mchild\u001b[0m\u001b[0;34m.\u001b[0m\u001b[0mchildren\u001b[0m\u001b[0;34m:\u001b[0m\u001b[0;34m\u001b[0m\u001b[0;34m\u001b[0m\u001b[0m\n\u001b[0m\u001b[1;32m    354\u001b[0m                 \u001b[0;32mif\u001b[0m \u001b[0minclude_ports\u001b[0m \u001b[0;32mor\u001b[0m \u001b[0;32mnot\u001b[0m \u001b[0mchild\u001b[0m\u001b[0;34m.\u001b[0m\u001b[0mport_particle\u001b[0m\u001b[0;34m:\u001b[0m\u001b[0;34m\u001b[0m\u001b[0;34m\u001b[0m\u001b[0m\n\u001b[1;32m    355\u001b[0m                     \u001b[0;32myield\u001b[0m \u001b[0mchild\u001b[0m\u001b[0;34m\u001b[0m\u001b[0;34m\u001b[0m\u001b[0m\n",
      "\u001b[0;32m~/miniconda3/envs/mosdef37/lib/python3.7/site-packages/oset/pyoset.py\u001b[0m in \u001b[0;36m__len__\u001b[0;34m(self)\u001b[0m\n\u001b[1;32m     28\u001b[0m             \u001b[0mself\u001b[0m \u001b[0;34m|=\u001b[0m \u001b[0miterable\u001b[0m\u001b[0;34m\u001b[0m\u001b[0;34m\u001b[0m\u001b[0m\n\u001b[1;32m     29\u001b[0m \u001b[0;34m\u001b[0m\u001b[0m\n\u001b[0;32m---> 30\u001b[0;31m     \u001b[0;32mdef\u001b[0m \u001b[0m__len__\u001b[0m\u001b[0;34m(\u001b[0m\u001b[0mself\u001b[0m\u001b[0;34m)\u001b[0m\u001b[0;34m:\u001b[0m\u001b[0;34m\u001b[0m\u001b[0;34m\u001b[0m\u001b[0m\n\u001b[0m\u001b[1;32m     31\u001b[0m         \u001b[0;32mreturn\u001b[0m \u001b[0mlen\u001b[0m\u001b[0;34m(\u001b[0m\u001b[0mself\u001b[0m\u001b[0;34m.\u001b[0m\u001b[0mmap\u001b[0m\u001b[0;34m)\u001b[0m\u001b[0;34m\u001b[0m\u001b[0;34m\u001b[0m\u001b[0m\n\u001b[1;32m     32\u001b[0m \u001b[0;34m\u001b[0m\u001b[0m\n",
      "\u001b[0;31mKeyboardInterrupt\u001b[0m: "
     ]
    }
   ],
   "source": [
    "# add the bonds to the topology structure using the MDAnalysis universe\n",
    "# nb - the mbuild Compound class stores the bonds as a graph (similar to a networkx object)\n",
    "#    - it is quite expensive to add the bonds one by one...not even sure what the utility of this is, we might just add\n",
    "#       a reference to the bond list in the force field (or vica versa).\n",
    "system.add_bonds_from_universe(universe)"
   ]
  },
  {
   "cell_type": "code",
   "execution_count": 24,
   "metadata": {},
   "outputs": [],
   "source": [
    "# we can add a representative structure to the topology structure\n",
    "# nb - this could just be a reference to the input/starting configuration\n",
    "system.add_positions_from_universe(universe)"
   ]
  },
  {
   "cell_type": "code",
   "execution_count": 25,
   "metadata": {},
   "outputs": [
    {
     "name": "stdout",
     "output_type": "stream",
     "text": [
      "The system is <Compound 45194 particles, non-periodic, 92 bonds, id: 140236627233936>\n",
      "The first molecule is <Protein 105 particles, non-periodic, 92 bonds, id: 140236612778384>\n",
      "The first residue of the first molecule is <SER 13 particles, non-periodic, 12 bonds, id: 140236598983952>\n",
      "The first atom in the first residue of the first molecule is <N pos=( 30.2700, 17.3300, 41.4400), 0 bonds, id: 140236627232528>\n"
     ]
    }
   ],
   "source": [
    "# Let's illustrate the topology\n",
    "print('The system is '+str(system))\n",
    "print('The first molecule is '+str(system.children[0]))\n",
    "print('The first residue of the first molecule is '+str(system.children[0].children[0]))\n",
    "print('The first atom in the first residue of the first molecule is '+str(system.children[0].children[0].children[0]))"
   ]
  },
  {
   "cell_type": "code",
   "execution_count": 26,
   "metadata": {},
   "outputs": [
    {
     "name": "stdout",
     "output_type": "stream",
     "text": [
      "The system is <Compound 45194 particles, non-periodic, 92 bonds, id: 140236627233936>\n",
      "The second molecule is <Protein 105 particles, non-periodic, 0 bonds, id: 140236478206800>\n",
      "The first atom in the second molecule is <SER 13 particles, non-periodic, 0 bonds, id: 140236625265936>\n"
     ]
    }
   ],
   "source": [
    "# Let's illustrate the topology\n",
    "print('The system is '+str(system))\n",
    "print('The second molecule is '+str(system.children[1]))\n",
    "#print('The first residue of the second molecule is '+str(system.children[1].children[0]))\n",
    "print('The first atom in the second molecule is '+str(system.children[1].children[0]))"
   ]
  },
  {
   "cell_type": "code",
   "execution_count": 20,
   "metadata": {},
   "outputs": [
    {
     "name": "stderr",
     "output_type": "stream",
     "text": [
      "/Users/joedinski/miniconda3/envs/mosdef37/lib/python3.7/site-packages/mbuild/box.py:28: DeprecationWarning: `np.float` is a deprecated alias for the builtin `float`. To silence this warning, use `float` by itself. Doing this will not modify any behavior and is safe. If you specifically wanted the numpy scalar type, use `np.float64` here.\n",
      "Deprecated in NumPy 1.20; for more details and guidance: https://numpy.org/devdocs/release/1.20.0-notes.html#deprecations\n",
      "  mins = np.array(mins, dtype=np.float)\n",
      "/Users/joedinski/miniconda3/envs/mosdef37/lib/python3.7/site-packages/mbuild/box.py:29: DeprecationWarning: `np.float` is a deprecated alias for the builtin `float`. To silence this warning, use `float` by itself. Doing this will not modify any behavior and is safe. If you specifically wanted the numpy scalar type, use `np.float64` here.\n",
      "Deprecated in NumPy 1.20; for more details and guidance: https://numpy.org/devdocs/release/1.20.0-notes.html#deprecations\n",
      "  maxs = np.array(maxs, dtype=np.float)\n",
      "/Users/joedinski/miniconda3/envs/mosdef37/lib/python3.7/site-packages/mbuild/box.py:84: DeprecationWarning: `np.float` is a deprecated alias for the builtin `float`. To silence this warning, use `float` by itself. Doing this will not modify any behavior and is safe. If you specifically wanted the numpy scalar type, use `np.float64` here.\n",
      "Deprecated in NumPy 1.20; for more details and guidance: https://numpy.org/devdocs/release/1.20.0-notes.html#deprecations\n",
      "  maxs = np.array(maxs, dtype=np.float)\n",
      "/Users/joedinski/miniconda3/envs/mosdef37/lib/python3.7/site-packages/mbuild/box.py:76: DeprecationWarning: `np.float` is a deprecated alias for the builtin `float`. To silence this warning, use `float` by itself. Doing this will not modify any behavior and is safe. If you specifically wanted the numpy scalar type, use `np.float64` here.\n",
      "Deprecated in NumPy 1.20; for more details and guidance: https://numpy.org/devdocs/release/1.20.0-notes.html#deprecations\n",
      "  mins = np.array(mins, dtype=np.float)\n"
     ]
    },
    {
     "data": {
      "application/vnd.jupyter.widget-view+json": {
       "model_id": "8e8c9c78b6434483949c63f096d60255",
       "version_major": 2,
       "version_minor": 0
      },
      "text/plain": [
       "NGLWidget()"
      ]
     },
     "metadata": {},
     "output_type": "display_data"
    }
   ],
   "source": [
    "# with the mbuild Compound class, we can easily view the system or subsystems with nglview\n",
    "system.children[0].children[0]._visualize_nglview()"
   ]
  },
  {
   "cell_type": "code",
   "execution_count": 27,
   "metadata": {},
   "outputs": [],
   "source": [
    "# Here we use the atom attributes to gather a summary/overview of the topology\n",
    "# nb - this could probably also be done directly from the topology data structure...that would probably be more general/robust\n",
    "system.get_topology_summary()"
   ]
  },
  {
   "cell_type": "code",
   "execution_count": 28,
   "metadata": {},
   "outputs": [
    {
     "name": "stdout",
     "output_type": "stream",
     "text": [
      "MOLTYPE = Protein:\n",
      "Number of molecules of this type: 2\n",
      "A dictionary with the counts of each residue type within this molecule type: {'GLY': 1, 'PHE': 2, 'SER': 5}\n",
      "The formula of this molecule type, with respect to residues: GLY(1)PHE(2)SER(5)\n",
      "The full sequence of residues for this molecule type: SER.SER.PHE.SER.PHE.GLY.SER.SER\n",
      "A dictionary with the counts of each atom element/type for this residue type (and molecule type): {'C': 2, 'H': 3, 'N': 1, 'O': 1}\n",
      "The formula of each residue type (for this molecule type), with respect to the atoms: C(2)H(3)N(1)O(1)\n",
      "A dictionary with the counts of each atom element/type for this residue type (and molecule type): {'C': 9, 'H': 9, 'N': 1, 'O': 1}\n",
      "The formula of each residue type (for this molecule type), with respect to the atoms: C(9)H(9)N(1)O(1)\n",
      "A dictionary with the counts of each atom element/type for this residue type (and molecule type): {'C': 3, 'H': 7, 'N': 1, 'O': 2}\n",
      "The formula of each residue type (for this molecule type), with respect to the atoms: C(3)H(7)N(1)O(2)\n",
      "MOLTYPE = SOL:\n",
      "Number of molecules of this type: 11246\n",
      "A dictionary with the counts of each atom element/type for this molecule type: {'': 1, 'H': 2, 'O': 1}\n",
      "The formula of this molecule type, with respect to the atoms: (1)H(2)O(1)\n"
     ]
    }
   ],
   "source": [
    "for moltype in system.molnames:\n",
    "    print('MOLTYPE = '+moltype+':')\n",
    "    print('Number of molecules of this type: '+str(system.moltypes[moltype].count))\n",
    "    if system.moltypes[moltype].n_res == 1:\n",
    "        print('A dictionary with the counts of each atom element/type for this molecule type: '+str(system.moltypes[moltype].atom_count))\n",
    "        print('The formula of this molecule type, with respect to the atoms: '+str(system.moltypes[moltype].atom_formula))\n",
    "    else:\n",
    "        print('A dictionary with the counts of each residue type within this molecule type: '+str(system.moltypes[moltype].residue_count))\n",
    "        print('The formula of this molecule type, with respect to residues: '+str(system.moltypes[moltype].residue_formula))\n",
    "        print('The full sequence of residues for this molecule type: '+str(system.moltypes[moltype].residue_sequence))\n",
    "        for res in system.moltypes[moltype].resnames:\n",
    "            print('A dictionary with the counts of each atom element/type for this residue type (and molecule type): '+str(system.moltypes[moltype].restypes[res].atom_count))\n",
    "            print('The formula of each residue type (for this molecule type), with respect to the atoms: '+str(system.moltypes[moltype].restypes[res].atom_formula))"
   ]
  },
  {
   "cell_type": "code",
   "execution_count": 27,
   "metadata": {},
   "outputs": [
    {
     "data": {
      "text/plain": [
       "<Compound 1 particles, non-periodic, 0 bonds, id: 140295973323216>"
      ]
     },
     "execution_count": 27,
     "metadata": {},
     "output_type": "execute_result"
    }
   ],
   "source": [
    "system['Protein_chain_A'][0]\n",
    "system['NA'][0]"
   ]
  },
  {
   "cell_type": "code",
   "execution_count": 37,
   "metadata": {},
   "outputs": [
    {
     "data": {
      "text/plain": [
       "[<Compound 17 particles, non-periodic, 0 bonds, id: 140296443471824>,\n",
       " <Compound 17 particles, non-periodic, 0 bonds, id: 140296444002576>]"
      ]
     },
     "execution_count": 37,
     "metadata": {},
     "output_type": "execute_result"
    }
   ],
   "source": [
    "system['Protein_chain_A'][0]['GLN']"
   ]
  },
  {
   "cell_type": "code",
   "execution_count": null,
   "metadata": {},
   "outputs": [],
   "source": []
  },
  {
   "cell_type": "code",
   "execution_count": null,
   "metadata": {},
   "outputs": [],
   "source": []
  },
  {
   "cell_type": "code",
   "execution_count": null,
   "metadata": {},
   "outputs": [],
   "source": []
  },
  {
   "cell_type": "code",
   "execution_count": null,
   "metadata": {},
   "outputs": [],
   "source": []
  }
 ],
 "metadata": {
  "interpreter": {
   "hash": "f54c509663773daf1f5ae8ab2d2d890b981cf92287f6c7466d4d03fa7cb1a7a2"
  },
  "kernelspec": {
   "display_name": "Python 3.7.7 64-bit ('base': conda)",
   "language": "python",
   "name": "python3"
  },
  "language_info": {
   "codemirror_mode": {
    "name": "ipython",
    "version": 3
   },
   "file_extension": ".py",
   "mimetype": "text/x-python",
   "name": "python",
   "nbconvert_exporter": "python",
   "pygments_lexer": "ipython3",
   "version": "3.7.12"
  },
  "orig_nbformat": 4
 },
 "nbformat": 4,
 "nbformat_minor": 2
}
